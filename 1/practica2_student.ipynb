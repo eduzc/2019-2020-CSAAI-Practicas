{
 "cells": [
  {
   "cell_type": "markdown",
   "metadata": {},
   "source": [
    "# Tema 2 Fundamentos de decisión y clasificación\n",
    "\n",
    "### Laura Cornejo Bueno y Rebeca Goya Esteban \n",
    "\n",
    "update:  de  de 2019\n",
    "\n",
    "<a rel=\"license\" href=\"http://creativecommons.org/licenses/by-nc-sa/4.0/\"><img alt=\"Licencia de Creative Commons\" style=\"border-width:0\" src=\"https://i.creativecommons.org/l/by-nc-sa/4.0/88x31.png\" /></a><br />Este obra está bajo una <a rel=\"license\" href=\"http://creativecommons.org/licenses/by-nc-sa/4.0/\">licencia de Creative Commons Reconocimiento-NoComercial-CompartirIgual 4.0 Internacional</a>. "
   ]
  },
  {
   "cell_type": "markdown",
   "metadata": {},
   "source": [
    "## Ejercicios práctica 2\n",
    "\n",
    "Considere un problema de decisión binario descrito por:\n",
    "\n",
    "\\begin{equation}\n",
    "f\\left(x | H_{0}\\right)=\\frac{1}{\\sqrt{2 \\pi} \\sigma_{0}} \\exp \\left(-\\frac{\\left(x-\\mu_{0}\\right)^{2}}{2 \\sigma_{0}^{2}}\\right) \\quad f\\left(x | H_{1}\\right)=\\frac{1}{\\sqrt{2 \\pi} \\sigma_{1}} \\exp \\left(-\\frac{\\left(x-\\mu_{1}\\right)^{2}}{2 \\sigma_{1}^{2}}\\right)\n",
    "\\end{equation}\n",
    "\n",
    "donde $x$ es una v.a. continua y $\\mu_{0} = -1$, $\\mu_{1} = 1$, y $\\sigma_{0}^{2} = \\sigma_{1}^{2} = 1$. Las probabilidades a priori son $P(H_{0}) = 0.7$ y $P(H_{1}) = 0.3$"
   ]
  },
  {
   "cell_type": "markdown",
   "metadata": {},
   "source": [
    "## Ejercicio 1.\n",
    "Construya la v.a $x$. Para ello genera una secuencia de N = 1000 números aleatorios de valores -1 y +1. Tenga en cuenta las probabilidades a priori $P(H_{0}) = 0.7$ y $P(H_{1}) = 0.3$, de tal forma que, aproximadamente, un 70% de los números sean -1 y un 30% sean +1. Añada a los números generados una variable aleatoria $n$, tal que n~$N(0,1)$. Represente el histograma de la v.a generada. Las funciones $rand$, $randn$, $sign$, $hist$ pueden resultarle de utilidad."
   ]
  },
  {
   "cell_type": "code",
   "execution_count": null,
   "metadata": {
    "scrolled": true
   },
   "outputs": [],
   "source": [
    "# %matplotlib notebook\n",
    "import matplotlib.pyplot as plt\n",
    "import numpy as np\n",
    "from random import randint, uniform, random #Otra forma de usar función random en lugar de con numpy\n",
    "\n",
    "#Parámetros ejercicios\n",
    "mu0 = \n",
    "mu1 = \n",
    "sigma0 = \n",
    "sigma1 = \n",
    "p0 = \n",
    "p1 = \n",
    "\n",
    "N =  #Secuencia números aleatorios\n",
    "\n",
    "#Generación de N números aleatorios entre 0 y 1\n",
    "x = \n",
    "\n",
    "#x = [random() for _ in range(N)]  #otra forma de usar función random\n",
    "#Si uso random (no numpy) convierto en array para poder realizar la operación de resta posterior\n",
    "#np_x = np.asarray(x)\n",
    "\n",
    "# 70% de elementos = -1 y 30% = 1\n",
    "x = \n",
    "\n",
    "\n",
    "#Compruebo porcentaje de valores de 1s y -1s\n",
    "sum_pos = sum(x==1)/N\n",
    "sum_neg = sum(x==-1)/N\n",
    "\n",
    "#Genero variable aleatoria n con distribución normal o gaussiana\n",
    "n = \n",
    "\n",
    "\n",
    "#Variable aleatoria x\n",
    "xn = \n",
    "\n",
    "\n",
    "#Histograma variable aleatoria xn\n"
   ]
  },
  {
   "cell_type": "markdown",
   "metadata": {},
   "source": [
    "## Ejercicio 2.\n",
    "Obtenga analíticamente los umbrales de decisión óptimos siguiendo los criterios ML y MAP: $\\gamma_{ML}$ y $\\gamma_{MAP}$. Represente en una misma figura $f(x | H_0)·P(H_0)$, $f(x | H_1)·P(H_1)$ conjuntamente con los umbrales obtenidos (utilice distintos colores en cada plot). Las funciones $norm.pdf$ y $Line2D$ pueden resultarle de utilidad. Nota: cuando utilice $norm.pdf$ tome X = np.linspace(-5,5,N)."
   ]
  },
  {
   "cell_type": "code",
   "execution_count": null,
   "metadata": {},
   "outputs": [],
   "source": [
    "# %matplotlib notebook\n",
    "import matplotlib.pyplot as plt\n",
    "import numpy as np\n",
    "from scipy.stats import norm  #Para la función norm.pdf\n",
    "import math  #Para la función logaritmo\n",
    "import matplotlib.lines as mlines\n",
    "\n",
    "mu0 = \n",
    "mu1 = \n",
    "sigma0 = \n",
    "sigma1 = \n",
    "p0 = \n",
    "p1 = \n",
    "\n",
    "N =  #Secuencia números aleatorios\n",
    "\n",
    "X = np.linspace(-5,5,N);\n",
    "#Verosimilitud\n",
    "fx_H0 = \n",
    "fx_H1 = \n",
    "\n",
    "#Umbrales\n",
    "g_ML = \n",
    "g_MAP = \n",
    "\n",
    "\n",
    "#plotting\n",
    "fig = plt.figure(figsize=(7,5))\n",
    "ax = fig.subplots()\n",
    "ax.plot()\n",
    "ax.plot()\n",
    "line_ML = \n",
    "ax.add_line(line_ML)\n",
    "line_MAP = \n",
    "ax.add_line(line_MAP)\n",
    "legend = ax.legend(loc='upper right', shadow=True, fontsize='x-large')\n",
    "plt.grid()\n",
    "plt.show()\n",
    "\n"
   ]
  },
  {
   "cell_type": "markdown",
   "metadata": {},
   "source": [
    "## Ejercicio 3.\n",
    "Para los dos umbrales obtenidos, y para la secuencia generada en el ejercicio 1, estime la probabilidad de error $(P_e)$ en sus datos. Puede estimar $P_e$ mediante el número medio de errores en sus datos. Los operadores lógicos $>, <, ==, o ~=$, además de la función $np.where$ pueden resultarle de utilidad."
   ]
  },
  {
   "cell_type": "code",
   "execution_count": null,
   "metadata": {},
   "outputs": [],
   "source": [
    "# %matplotlib notebook\n",
    "import matplotlib.pyplot as plt\n",
    "import numpy as np\n",
    "import sys\n",
    "sys.path.append('../') #allows to import a module in a diff folder\n",
    "from tds_utils import prob_error\n",
    "\n",
    "#Load variables\n",
    "g_MAP = np.load('g_MAP.npy')\n",
    "g_ML = np.load('g_ML.npy')\n",
    "x = np.load('x.npy')\n",
    "xn = np.load('xn.npy')\n",
    "\n",
    "\n",
    "#Cálculo probabilidad de error\n",
    "Pe_ML, pd_ML, pf_ML  = prob_error()\n",
    "Pe_MAP, pd_MAP, pf_MAP = prob_error()\n",
    "print(Pe_ML)\n",
    "print(Pe_MAP)"
   ]
  },
  {
   "cell_type": "markdown",
   "metadata": {},
   "source": [
    "## Ejercicio 4.\n",
    "Modifique ahora el umbral de decisión, barriendo desde  $\\gamma$ = -4 hasta  $\\gamma$ = 4 . Para cada valor de $\\gamma$ calcule la probabilidad de error en sus datos. Represente los resultados gráficamente ($P_e$ vs $\\gamma$). Nota: tome $\\gamma$ = $np.linspace(-4,4,20)$"
   ]
  },
  {
   "cell_type": "code",
   "execution_count": null,
   "metadata": {},
   "outputs": [],
   "source": [
    "# %matplotlib notebook\n",
    "import matplotlib.pyplot as plt\n",
    "import numpy as np\n",
    "import sys\n",
    "sys.path.append('../') #allows to import a module in a diff folder\n",
    "from tds_utils import prob_error\n",
    "\n",
    "x = np.load('x.npy')\n",
    "xn = np.load('xn.npy')\n",
    "\n",
    "gamma = \n",
    "\n",
    "Pe = np.zeros(np.size(gamma))\n",
    "pd = np.zeros(np.size(gamma))\n",
    "pf = np.zeros(np.size(gamma))\n",
    "\n",
    "#Probabilidad de error para cada gammaç\n",
    "_Ç\n",
    "…–*for  in range :\n",
    "    (, , ) = prob_error();\n",
    "\n",
    "#Plotting\n",
    "plt.figure(figsize = (7,5))\n",
    "plt.plot();\n",
    "plt.xlabel('')\n",
    "plt.ylabel('')\n",
    "plt.show()"
   ]
  },
  {
   "cell_type": "markdown",
   "metadata": {},
   "source": [
    "## Ejercicio 5.\n",
    "Siguiendo la misma metodología que para el cálculo de la $P_e$, calcule la probabilidad de detección $P_D$ y la probabilidad de falsa alarma $P_F$ para distintos valores de $\\gamma$ (puede usar el mismo rango que en el ejercicio anterior). Represente $P_D$ vs $P_F$."
   ]
  },
  {
   "cell_type": "code",
   "execution_count": null,
   "metadata": {},
   "outputs": [],
   "source": [
    "# %matplotlib notebook\n",
    "import matplotlib.pyplot as plt\n",
    "import numpy as np\n",
    "import sys\n",
    "sys.path.append('../') #allows to import a module in a diff folder\n",
    "from tds_utils import prob_error\n",
    "\n",
    "x = np.load('x.npy')\n",
    "xn = np.load('xn.npy')\n",
    "\n",
    "gamma = \n",
    "\n",
    "Pe = np.zeros(np.size(gamma));\n",
    "pd = np.zeros(np.size(gamma));\n",
    "pf = np.zeros(np.size(gamma));\n",
    "\n",
    "#Probabilidad de detección y falsa alarma\n",
    "for  in range :\n",
    "    (, , ) = prob_error();\n",
    "\n",
    "#Plotting\n",
    "plt.figure(figsize = (7,5))\n",
    "plt.plot();\n",
    "plt.xlabel('')\n",
    "plt.ylabel('')\n",
    "plt.show()"
   ]
  },
  {
   "cell_type": "markdown",
   "metadata": {},
   "source": [
    "## Ejercicio 6.\n",
    "Repita los ejercicios anteriores asumiendo que las varianzas de las pdfs pueden ser distintas. Tome por ejemplo $\\sigma_{0}^{2}$ = 1 y $\\sigma_{1}^{2}$ = 2."
   ]
  },
  {
   "cell_type": "markdown",
   "metadata": {},
   "source": [
    "### Ejercicio1 ($\\sigma_{0}^{2}$ = 1 y $\\sigma_{1}^{2}$ = 2)"
   ]
  },
  {
   "cell_type": "code",
   "execution_count": null,
   "metadata": {},
   "outputs": [],
   "source": [
    "# %matplotlib notebook\n",
    "import matplotlib.pyplot as plt\n",
    "import numpy as np\n",
    "from random import randint, uniform, random #Otra forma de usar función random en lugar de con numpy\n",
    "\n",
    "#Parámetros ejercicios\n",
    "mu0 = \n",
    "mu1 = \n",
    "sigma0 = \n",
    "sigma1 = \n",
    "p0 = \n",
    "p1 = \n",
    "\n",
    "N =  #Secuencia números aleatorios\n",
    "\n",
    "#Generación de N números aleatorios entre 0 y 1\n",
    "x = \n",
    "\n",
    "#x = [random() for _ in range(N)]  #otra forma de usar función random\n",
    "#Si uso random (no numpy) convierto en array para poder realizar la operación de resta posterior\n",
    "#np_x = np.asarray(x)\n",
    "\n",
    "# 70% de elementos = -1 y 30% = 1\n",
    "x = \n",
    "\n",
    "\n",
    "#Compruebo porcentaje de valores de 1s y -1s\n",
    "sum_pos = sum(x==1)/N\n",
    "sum_neg = sum(x==-1)/N\n",
    "\n",
    "#Genero variable aleatoria n con distribución normal o gaussiana\n",
    "n = \n",
    "\n",
    "\n",
    "#Variable aleatoria x\n",
    "xn = \n",
    "\n",
    "\n",
    "#Histograma variable aleatoria xn\n"
   ]
  },
  {
   "cell_type": "markdown",
   "metadata": {},
   "source": [
    "### Ejercicio2 ($\\sigma_{0}^{2}$ = 1 y $\\sigma_{1}^{2}$ = 2)"
   ]
  },
  {
   "cell_type": "code",
   "execution_count": null,
   "metadata": {},
   "outputs": [],
   "source": [
    "# %matplotlib notebook\n",
    "import matplotlib.pyplot as plt\n",
    "import numpy as np\n",
    "from scipy.stats import norm  #Para la función norm.pdf\n",
    "import math  #Para la función logaritmo\n",
    "import matplotlib.lines as mlines\n",
    "\n",
    "mu0 = \n",
    "mu1 = \n",
    "sigma0 = \n",
    "sigma1 = \n",
    "p0 = \n",
    "p1 = \n",
    "\n",
    "N =  #Secuencia números aleatorios\n",
    "\n",
    "X = np.linspace(-5,5,N);\n",
    "#Verosimilitud\n",
    "fx_H0 = \n",
    "fx_H1 = \n",
    "\n",
    "#Umbrales\n",
    "g_ML = \n",
    "g_MAP = \n",
    "\n",
    "\n",
    "#plotting\n",
    "fig = plt.figure(figsize=(7,5))\n",
    "ax = fig.subplots()\n",
    "ax.plot()\n",
    "ax.plot()\n",
    "line_ML = \n",
    "ax.add_line(line_ML)\n",
    "line_MAP = \n",
    "ax.add_line(line_MAP)\n",
    "legend = ax.legend(loc='upper right', shadow=True, fontsize='x-large')\n",
    "plt.grid()\n",
    "plt.show()\n"
   ]
  },
  {
   "cell_type": "markdown",
   "metadata": {},
   "source": [
    "### Ejercicio3 ($\\sigma_{0}^{2}$ = 1 y $\\sigma_{1}^{2}$ = 2)"
   ]
  },
  {
   "cell_type": "code",
   "execution_count": null,
   "metadata": {},
   "outputs": [],
   "source": [
    "# %matplotlib notebook\n",
    "import matplotlib.pyplot as plt\n",
    "import numpy as np\n",
    "import sys\n",
    "sys.path.append('../') #allows to import a module in a diff folder\n",
    "from tds_utils import prob_error\n",
    "\n",
    "#Load variables\n",
    "g_MAP = np.load('g_MAP_new_sigma.npy')\n",
    "g_ML = np.load('g_ML_new_sigma.npy')\n",
    "x = np.load('x_new_sigma.npy')\n",
    "xn = np.load('xn_new_sigma.npy')\n",
    "\n",
    "\n",
    "#Cálculo probabilidad de error\n",
    "Pe_ML, pd_ML, pf_ML  = prob_error()\n",
    "Pe_MAP, pd_MAP, pf_MAP = prob_error()\n",
    "print(Pe_ML)\n",
    "print(Pe_MAP)"
   ]
  },
  {
   "cell_type": "markdown",
   "metadata": {},
   "source": [
    "### Ejercicio4 ($\\sigma_{0}^{2}$ = 1 y $\\sigma_{1}^{2}$ = 2)"
   ]
  },
  {
   "cell_type": "code",
   "execution_count": null,
   "metadata": {},
   "outputs": [],
   "source": [
    "# %matplotlib notebook\n",
    "import matplotlib.pyplot as plt\n",
    "import numpy as np\n",
    "import sys\n",
    "sys.path.append('../') #allows to import a module in a diff folder\n",
    "from tds_utils import prob_error\n",
    "\n",
    "x = np.load('x_new_sigma.npy')\n",
    "xn = np.load('xn_new_sigma.npy')\n",
    "\n",
    "gamma = \n",
    "\n",
    "Pe = np.zeros(np.size(gamma));\n",
    "pd = np.zeros(np.size(gamma));\n",
    "pf = np.zeros(np.size(gamma));\n",
    "\n",
    "#Probabilidad de error para cada gamma\n",
    "for  in range :\n",
    "    (, , ) = prob_error();\n",
    "\n",
    "#Plotting\n",
    "plt.figure(figsize = (7,5))\n",
    "plt.plot();\n",
    "plt.xlabel('')\n",
    "plt.ylabel('')\n",
    "plt.show()"
   ]
  },
  {
   "cell_type": "markdown",
   "metadata": {},
   "source": [
    "### Ejercicio5 ($\\sigma_{0}^{2}$ = 1 y $\\sigma_{1}^{2}$ = 2)"
   ]
  },
  {
   "cell_type": "code",
   "execution_count": null,
   "metadata": {},
   "outputs": [],
   "source": [
    "# %matplotlib notebook\n",
    "import matplotlib.pyplot as plt\n",
    "import numpy as np\n",
    "import sys\n",
    "sys.path.append('../') #allows to import a module in a diff folder\n",
    "from tds_utils import prob_error\n",
    "\n",
    "x = np.load('x_new_sigma.npy')\n",
    "xn = np.load('xn_new_sigma.npy')\n",
    "\n",
    "gamma = \n",
    "\n",
    "Pe = np.zeros(np.size(gamma));\n",
    "pd = np.zeros(np.size(gamma));\n",
    "pf = np.zeros(np.size(gamma));\n",
    "\n",
    "#Probabilidad de detección y falsa alarma\n",
    "for  in range :\n",
    "    (, , ) = prob_error()\n",
    "\n",
    "#Plotting\n",
    "plt.figure(figsize = (7,5))\n",
    "plt.plot();\n",
    "plt.xlabel('')\n",
    "plt.ylabel('')\n",
    "plt.show()"
   ]
  },
  {
   "cell_type": "code",
   "execution_count": null,
   "metadata": {},
   "outputs": [],
   "source": []
  }
 ],
 "metadata": {
  "kernelspec": {
   "display_name": "Python 3",
   "language": "python",
   "name": "python3"
  },
  "language_info": {
   "codemirror_mode": {
    "name": "ipython",
    "version": 3
   },
   "file_extension": ".py",
   "mimetype": "text/x-python",
   "name": "python",
   "nbconvert_exporter": "python",
   "pygments_lexer": "ipython3",
   "version": "3.6.6"
  }
 },
 "nbformat": 4,
 "nbformat_minor": 2
}
