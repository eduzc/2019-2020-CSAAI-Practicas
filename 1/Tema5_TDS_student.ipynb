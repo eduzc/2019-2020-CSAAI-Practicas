{
 "cells": [
  {
   "cell_type": "markdown",
   "metadata": {},
   "source": [
    "# Tema 5 Tratamiento Digital del Sonido\n",
    "\n",
    "\n",
    "### Rebeca Goya Esteban y Óscar Barquero Pérez\n",
    "\n",
    "update: 18 de octubre de 2018\n",
    "\n",
    "<a rel=\"license\" href=\"http://creativecommons.org/licenses/by-nc-sa/4.0/\"><img alt=\"Licencia de Creative Commons\" style=\"border-width:0\" src=\"https://i.creativecommons.org/l/by-nc-sa/4.0/88x31.png\" /></a><br />Este obra está bajo una <a rel=\"license\" href=\"http://creativecommons.org/licenses/by-nc-sa/4.0/\">licencia de Creative Commons Reconocimiento-NoComercial-CompartirIgual 4.0 Internacional</a>. "
   ]
  },
  {
   "cell_type": "markdown",
   "metadata": {},
   "source": [
    "## Introducción\n",
    "\n",
    "Para la realización de los ejercicios necesitará el siguiente material:\n",
    "\n",
    "* Fichero de audio *confront.wav*.\n",
    "* Las funciones: *espectro_ventanas*, *energia*, *vozSS*, *myspectra*, *my_spectrogram*, *predlin*, *myceps*, *zcr* que se encuentran en el módulo tds_utils.py"
   ]
  },
  {
   "cell_type": "markdown",
   "metadata": {},
   "source": [
    "## Ejercicio 1. Reproducción de señales de audio\n",
    "\n",
    "En este ejercicio debera leer una señal de audio en formato .wav y reproducirlo. Existen diferentes forma de realizar una reproducción desde Python. Vamos a utilizar la herramienta del módulo soundevice. Si realizó correctamente la instalación del envrionmnet **tds_18_19**,  ya tendrá instalado el módulo correspondiente.\n",
    "\n",
    "* 1.1- Lea en primer lugar el fichero de audio **confront.wav**. Deberá consultar la ayuda del módulo scipy.io.wavfile. Después ejecute los siguientes comandos\n",
    "\n",
    "```python\n",
    "import scipy.io.wavfile as wf\n",
    "\n",
    "filename = 'confront.wav'\n",
    "\n",
    "fs,y = wf.read(filename)\n",
    "\n",
    "```"
   ]
  },
  {
   "cell_type": "code",
   "execution_count": null,
   "metadata": {},
   "outputs": [],
   "source": [
    "%matplotlib notebook\n",
    "import numpy as np\n",
    "import scipy as sc\n",
    "import matplotlib.pyplot as plt\n",
    "\n"
   ]
  },
  {
   "cell_type": "markdown",
   "metadata": {},
   "source": [
    "* 1.2- A continuación reproduzca la señal utilizando el siguiente comando\n",
    "\n",
    "```python\n",
    "import sounddevice as sd\n",
    "sd.play(y,fs)\n",
    "```\n",
    "\n",
    "donde $fs$ representa la frecuencia de muestreo de la señal. Este parámetro lo ha obtenido con la lectura del fichero .wav. ¿Cuál es la frecuencia de muestro de esta señal?.\n",
    "\n",
    "* 1.3- Reproduzca la señal también a la mitad y al doble de la frecuencia de muestreo"
   ]
  },
  {
   "cell_type": "code",
   "execution_count": null,
   "metadata": {},
   "outputs": [],
   "source": [
    "#Play the signal at fs\n",
    "\n"
   ]
  },
  {
   "cell_type": "code",
   "execution_count": null,
   "metadata": {},
   "outputs": [],
   "source": [
    "#Play the signal at fs/2\n",
    "\n"
   ]
  },
  {
   "cell_type": "code",
   "execution_count": null,
   "metadata": {},
   "outputs": [],
   "source": [
    "#Play the signal at 2*fs\n"
   ]
  },
  {
   "cell_type": "markdown",
   "metadata": {},
   "source": [
    "* 1.4-Visualice la señal de voz. Es decir cree un plot de la señal con un eje de tiempos adecuado"
   ]
  },
  {
   "cell_type": "code",
   "execution_count": null,
   "metadata": {},
   "outputs": [],
   "source": [
    "#plot wav signal\n",
    "\n",
    "#time vector\n",
    "t=\n",
    "\n",
    "plt.figure(figsize = (7,5))\n",
    "\n",
    "#plot figure\n",
    "\n",
    "\n",
    "plt.xlabel('Time [sec]')\n",
    "plt.ylabel('Amplitude')"
   ]
  },
  {
   "cell_type": "markdown",
   "metadata": {},
   "source": [
    "## Ejercicio 2. Enventanado\n",
    "\n",
    "* 2.1-Represente en el dominio temporal las ventanas Rectangular y Hamming. Para ello, cree primero las ventanas con los comandos:\n",
    "\n",
    "```python\n",
    "import scipy.signal as sig\n",
    "r = sig.boxcar(N)\n",
    "h = sig.hamming(N)\n",
    "```\n",
    "donde $N$ es el número de muestras de la ventana. Obtenga N para que el tamaño de la ventana sea de 20 msg.\n",
    "\n",
    "* Obseve sus perfiles, ¿qué ventana introduciría menor distorsión en el dominio temporal?"
   ]
  },
  {
   "cell_type": "code",
   "execution_count": null,
   "metadata": {
    "scrolled": true
   },
   "outputs": [],
   "source": [
    "#import tds.utils.py\n",
    "import sys\n",
    "sys.path.append('../') #allows to import a module in a diff folder\n",
    "from tds_utils import *\n",
    "\n",
    "\n",
    "\n",
    "N= int() #length in samples\n",
    "\n",
    "r =      #rectangular window\n",
    "h =       #hamming window\n",
    "\n",
    "t = np.arange(0,len(r))/fs #time in sec\n",
    "\n",
    "plt.figure(figsize = (7,5))\n",
    "plt.subplot(211)\n",
    "\n",
    "#plot rectangular window\n",
    "\n",
    "plt.xlabel('Time [sec]')\n",
    "plt.title('Ventana Rectangular')\n",
    "\n",
    "plt.subplot(212)\n",
    "\n",
    "#plot hamming window\n",
    "\n",
    "plt.xlabel('Time [sec]')\n",
    "plt.title('Ventana Hamming')"
   ]
  },
  {
   "cell_type": "markdown",
   "metadata": {},
   "source": [
    "\n",
    "* 2.2- Para representar las ventanas en el dominio frecuencial utilice la función *espectro_ventanas* del módulo tds_utils.py\n",
    "\n",
    "```python\n",
    "espectro_ventanas(r,h)\n",
    "```\n",
    "* Compare los espectro de las ventanas: anchura del lóbulo principal, nivel de los lóbulos secundarios."
   ]
  },
  {
   "cell_type": "code",
   "execution_count": null,
   "metadata": {},
   "outputs": [],
   "source": [
    "#windows psd stimation\n",
    "\n",
    "r_psd_20,h_psd_20, f_20 = \n",
    "\n",
    "#plot\n",
    "plt.figure(figsize = (8,6))\n",
    "\n",
    "plt.subplot(211)\n",
    "#plot rectangular window spectrum\n",
    "\n",
    "plt.xlabel('Frequency (Hz)')\n",
    "plt.ylabel('Rect window PSD (dB)')\n",
    "\n",
    "plt.subplot(212)\n",
    "#plot hamming window spectrum\n",
    "\n",
    "\n",
    "plt.xlabel('Frequency (Hz)')\n",
    "plt.ylabel('Rect window PSD (dB)')"
   ]
  },
  {
   "cell_type": "markdown",
   "metadata": {},
   "source": [
    "* 2.3- Varíe la longitud de las ventanas (pruebe, por ejemplo una ventana de 10 ms y una de 30 ms) y observe el efecto en los espectros de las ventanas (anchura del lóbulo principal, nivel de los lóbulos secundarios)."
   ]
  },
  {
   "cell_type": "code",
   "execution_count": null,
   "metadata": {},
   "outputs": [],
   "source": [
    "# ventana de 10 ms\n",
    "N= int() #length in samples\n",
    "\n",
    "r =    #rectangular window\n",
    "h =  #hamming window\n",
    "\n",
    "#windows psd stimation\n",
    "r_psd_10,h_psd_10, f_10 = \n",
    "\n",
    "#plot\n",
    "plt.figure(figsize = (8,6))\n",
    "\n",
    "plt.subplot(211)\n",
    "plt.plot(f_10,r_psd_10)\n",
    "plt.plot(f_20,r_psd_20,':',color='grey',linewidth = 0.8)\n",
    "plt.xlabel('Frequency (Hz)')\n",
    "plt.ylabel('Rect window PSD (dB)')\n",
    "\n",
    "plt.subplot(212)\n",
    "plt.plot(f_10,h_psd_10)\n",
    "plt.plot(f_20,h_psd_20,':',color='grey',linewidth = 0.8)\n",
    "plt.xlabel('Frequency (Hz)')\n",
    "plt.ylabel('Rect window PSD (dB)')\n"
   ]
  },
  {
   "cell_type": "code",
   "execution_count": null,
   "metadata": {},
   "outputs": [],
   "source": [
    "# ventana de 30 ms\n",
    "\n"
   ]
  },
  {
   "cell_type": "markdown",
   "metadata": {},
   "source": [
    "## Ejercicio 3. Energía localizada y tasa de cruces por cero\n",
    "\n",
    "* 3.1- Seleccione el segmento de la señal de voz ($y$) entre las muestras 15500-19500. Obtenga la evolución de la energía con el tiempo utilizando una ventana hamming de 20 ms, utilice para ello la función *energia* del módulo *tds_utils.py*\n",
    "\n",
    "```python\n",
    "energia(seg,h)\n",
    "#s señal, h ventana\n",
    "```"
   ]
  },
  {
   "cell_type": "code",
   "execution_count": null,
   "metadata": {},
   "outputs": [],
   "source": [
    "%matplotlib notebook\n",
    "#Localized energy\n",
    "\n",
    "seg = y[15500:19500+1]\n",
    "\n",
    "#20 ms window\n",
    "N= int(0.040*fs) #length in samples\n",
    "h = sig.hamming(N) #hamming window\n",
    "\n",
    "#compute energy\n",
    "e = \n",
    "\n",
    "#plot signal and energy\n",
    "plt.figure(figsize = (8,6))\n",
    "plt.subplot(211)\n",
    "plt.plot(seg)\n",
    "plt.xlabel('samples')\n",
    "plt.subplot(212)\n",
    "plt.plot(e)\n",
    "plt.xlabel('samples')"
   ]
  },
  {
   "cell_type": "markdown",
   "metadata": {
    "collapsed": true
   },
   "source": [
    "* 3.2- Observe el efecto del tamaño de la ventana ¿Qué ocurre si el tamaño de la ventan es muy pequeño, por ejemplo 5 ms? ¿y si es muy grande, por ejemplo 40 ms?"
   ]
  },
  {
   "cell_type": "code",
   "execution_count": null,
   "metadata": {},
   "outputs": [],
   "source": [
    "#5 ms window\n",
    "N=  #length in samples\n",
    "h =  #hamming window\n",
    "\n",
    "#compute energy\n",
    "e = \n",
    "\n",
    "#plot signal and energy\n"
   ]
  },
  {
   "cell_type": "code",
   "execution_count": null,
   "metadata": {},
   "outputs": [],
   "source": [
    "#40 ms window\n",
    "N=  #length in samples\n",
    "h = sig.hamming(N) #hamming window\n",
    "\n",
    "#compute energy\n",
    "e = e\n",
    "\n",
    "#plot signal and energy\n",
    "\n"
   ]
  },
  {
   "cell_type": "markdown",
   "metadata": {},
   "source": [
    "* 3.3- Para visualizar simultáneamente la evolución de la energía y la tasa de cruces por cero de la señal utilice la función *zcr(seg,h)* para obtener la tasa de cruces por cero localizada.  A continuación, represente zcr debajo de la energía.\n",
    "* 3.4- Identifique los tramso sonoros y sordos de la señal."
   ]
  },
  {
   "cell_type": "code",
   "execution_count": 1,
   "metadata": {},
   "outputs": [
    {
     "ename": "SyntaxError",
     "evalue": "invalid syntax (<ipython-input-1-870275e71f1a>, line 2)",
     "output_type": "error",
     "traceback": [
      "\u001b[0;36m  File \u001b[0;32m\"<ipython-input-1-870275e71f1a>\"\u001b[0;36m, line \u001b[0;32m2\u001b[0m\n\u001b[0;31m    N=  #length in samples\u001b[0m\n\u001b[0m                          ^\u001b[0m\n\u001b[0;31mSyntaxError\u001b[0m\u001b[0;31m:\u001b[0m invalid syntax\n"
     ]
    }
   ],
   "source": [
    "#%matplotlib inline\n",
    "N=  #length in samples\n",
    "h =  #hamming window\n",
    "\n",
    "#compute energy\n",
    "e = \n",
    "z =\n",
    "\n",
    "\n",
    "#plot signal and energy\n",
    "plt.figure(figsize = (8,6))\n",
    "plt.subplot(311)\n",
    "plt.plot(seg)\n",
    "plt.subplot(312)\n",
    "plt.plot(e)\n",
    "plt.subplot(313)\n",
    "plt.plot(z)\n",
    "plt.xlabel('samples')"
   ]
  },
  {
   "cell_type": "markdown",
   "metadata": {
    "collapsed": true
   },
   "source": [
    "## Ejercicio 4. Espectrograma\n",
    "\n",
    "* 4.1-Obtenga un espectrograma de banda ancha (por ejemplo longitud de ventana de 128 muestras) y otro de banda estrecha (por ejemplo longitud de ventana de 1024 muestras) para la señal de audio, *y* (completa confront.wav). Para ello utilice la función *my_spectrogram(sig,N,fs)*, donde $N$ es el tamaño de la ventana en muestras.\n",
    "\n",
    "* 4.2-¿Cuál tiene mayor resolución en frecuencia? ¿cuál tiene mayor resolución temporal?"
   ]
  },
  {
   "cell_type": "code",
   "execution_count": null,
   "metadata": {},
   "outputs": [],
   "source": [
    "import importlib\n",
    "import tds_utils\n",
    "importlib.reload(tds_utils)\n",
    "\n",
    "\n"
   ]
  },
  {
   "cell_type": "code",
   "execution_count": null,
   "metadata": {},
   "outputs": [],
   "source": [
    "import importlib\n",
    "import tds_utils\n",
    "importlib.reload(tds_utils)\n"
   ]
  },
  {
   "cell_type": "markdown",
   "metadata": {},
   "source": [
    "## Ejercicio 5. Predicción Lineal\n",
    "\n",
    "* 5.1- Obtenga una trama de la señal original (y), entre las muestras 14000:14330 (s2)\n",
    "\n",
    "* 5.2- Determine aproximadamente el número de coeficientes de predicción lineal ($p$) de la señal de entrada necesarios para representar adecuadamente el efecto del tracto vocal, utilice una ventana Hamming de 30 ms (s) y la función: \n",
    " *predlin(s2,p,h)*"
   ]
  },
  {
   "cell_type": "code",
   "execution_count": 1,
   "metadata": {},
   "outputs": [
    {
     "ename": "SyntaxError",
     "evalue": "invalid syntax (<ipython-input-1-6aa82f5a4430>, line 14)",
     "output_type": "error",
     "traceback": [
      "\u001b[0;36m  File \u001b[0;32m\"<ipython-input-1-6aa82f5a4430>\"\u001b[0;36m, line \u001b[0;32m14\u001b[0m\n\u001b[0;31m    s2 =\u001b[0m\n\u001b[0m         ^\u001b[0m\n\u001b[0;31mSyntaxError\u001b[0m\u001b[0;31m:\u001b[0m invalid syntax\n"
     ]
    }
   ],
   "source": [
    "%matplotlib notebook\n",
    "# to match matlab we need to use spectrum module conda install -c conda-forge spectrum \n",
    "import sys\n",
    "import scipy.signal as sig\n",
    "sys.path.append('../')\n",
    "from tds_utils import *\n",
    "import scipy.io.wavfile as wf\n",
    "\n",
    "filename = 'confront.wav'\n",
    "\n",
    "fs,y = wf.read(filename)\n",
    "\n",
    "#obtain frame s2\n",
    "s2 = \n",
    "#set LPC order\n",
    "p = \n",
    "\n",
    "N=  #length in samples\n",
    "h =  #hamming window\n",
    "\n"
   ]
  },
  {
   "cell_type": "markdown",
   "metadata": {},
   "source": [
    "## Ejercicio 6. Estimación de pitch: autocorrelación, spectrum, cepstrum\n",
    "\n",
    "* Obtenga dos tramas de la señal original (sig), trama 1: muestras 14200-14475 y trama 2: muestras 9200:9475.\n",
    "* Obtenga y represente la autocorrelación de ambas tramas con la función:\n",
    " *[k,c] = xcorr(trama) *\n",
    " \n",
    "    En *c* se almacenarán los valores de la autocorrelación y en *k* los valores de los desplazamientos.\n",
    " \n",
    "    Determine si se trata de tramas sonoras o sordas. En el caso de que alguna de las tramas sea sonora, estime el pitch o frecuencia fundamental. \n",
    "\n",
    "\n",
    "* Obtenga el espectro de ambas tramas con la función: *myspectra(trama,fs)* \n",
    "\n",
    "    Utilice ahora los espectros para determinar si se trata de tramas sonoras o sordas. En el caso de que alguna de las tramas sea sonora, estime el pitch o frecuencia fundamental.\n",
    "\n",
    "* Realice un análisis cepstral de ambas tramas utilizando la función:*complex_cepstrum(trama,fs)*\n",
    "\n",
    "    Utilice ahora el cepstrum para determinar si se trata de tramas sonoras o sordas. En el caso de que alguna de las tramas sea sonora, estime el pitch o frecuencia fundamental.\n",
    "\n",
    "* Compare las estimaciones obtenidas utilizando los diferentes métodos.\n",
    " "
   ]
  },
  {
   "cell_type": "code",
   "execution_count": null,
   "metadata": {},
   "outputs": [],
   "source": [
    "import sys\n",
    "import scipy.signal\n",
    "sys.path.append('../')\n",
    "import tds_utils\n",
    "import scipy.io.wavfile as wf\n",
    "\n",
    "filename = 'confront.wav'\n",
    "\n",
    "fs,y = wf.read(filename)\n",
    "\n",
    "s1 = \n",
    "s2 = \n",
    "\n",
    "plt.figure()\n",
    "plt.subplot(211)\n",
    "plt.plot(s1)\n",
    "plt.subplot(212)\n",
    "plt.plot(s2)\n"
   ]
  },
  {
   "cell_type": "code",
   "execution_count": null,
   "metadata": {},
   "outputs": [],
   "source": [
    "#1 Use correlation\n",
    "\n",
    "[k1,c1] = \n",
    "[k2,c2] = \n",
    "\n",
    "plt.figure()\n",
    "plt.subplot(211)\n",
    "plt.plot(k1,c1)\n",
    "plt.subplot(212)\n",
    "plt.plot(k2,c2)"
   ]
  },
  {
   "cell_type": "code",
   "execution_count": null,
   "metadata": {},
   "outputs": [],
   "source": [
    "#2 Use fft\n",
    "\n",
    "psd1,f1 = \n",
    "psd2,f2 = \n",
    "\n",
    "idx = f1 >= 0\n",
    "plt.figure(figsize=(8,6))\n",
    "plt.subplot(211)\n",
    "\n",
    "plt.plot(f1[idx],psd1[idx])\n",
    "\n",
    "plt.subplot(212)\n",
    "plt.plot(f2[idx],psd2[idx])"
   ]
  },
  {
   "cell_type": "code",
   "execution_count": null,
   "metadata": {},
   "outputs": [],
   "source": [
    "#use cepstrum\n",
    "\n",
    "ceps,ndelay = \n",
    "ceps2,ndelay2 = \n",
    "plt.close('all')\n",
    "plt.plot(np.arange(int(len(ceps)/2))/fs,ceps[:int(len(ceps)/2)])\n",
    "\n",
    "plt.figure()\n",
    "plt.plot(np.arange(int(len(ceps2)/2))/fs,ceps2[:int(len(ceps2)/2)])"
   ]
  }
 ],
 "metadata": {
  "kernelspec": {
   "display_name": "Python 3",
   "language": "python",
   "name": "python3"
  },
  "language_info": {
   "codemirror_mode": {
    "name": "ipython",
    "version": 3
   },
   "file_extension": ".py",
   "mimetype": "text/x-python",
   "name": "python",
   "nbconvert_exporter": "python",
   "pygments_lexer": "ipython3",
   "version": "3.6.6"
  }
 },
 "nbformat": 4,
 "nbformat_minor": 2
}
