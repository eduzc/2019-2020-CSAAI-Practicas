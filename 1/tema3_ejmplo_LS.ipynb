{
 "cells": [
  {
   "cell_type": "markdown",
   "metadata": {},
   "source": [
    "## Ejemplo práctico: LS House Price"
   ]
  },
  {
   "cell_type": "code",
   "execution_count": null,
   "metadata": {},
   "outputs": [],
   "source": [
    "# %matplotlib notebook\n",
    "import matplotlib.pyplot as plt\n",
    "import numpy as np\n",
    "from scipy import io  #Para cargar archivos .mat\n",
    "import statistics\n",
    "\n",
    "dat = io.loadmat('hause_dataset.mat')\n",
    "keys= dat.keys()\n",
    "print(keys)\n",
    "var = dat['var']\n",
    "x = dat['x']\n",
    "\n",
    "n = np.transpose(var[12 :])\n",
    "x = np.transpose(x)\n",
    "\n",
    "fig = plt.figure()\n",
    "plt.plot(n,x,'x', label='Observaciones')\n",
    "plt.xlabel('n=Percent lower status of the population')\n",
    "plt.ylabel('x= House price (thousands of $)')\n",
    "\n",
    "\n",
    "\n",
    "n_orden = sorted(n)\n",
    "n_orden = np.asarray(n_orden)\n",
    "\n",
    "ind = np.argsort(n, axis=0)#devuelve índices de los elementos ordenados en el eje 0 (columnas)\n",
    "x = x[ind,0]\n",
    "\n",
    "H = np.concatenate((n_orden**2,n_orden,np.ones((len(n_orden),1))),axis=1)\n",
    "\n",
    "theta = np.dot(np.linalg.pinv(H),x)\n",
    "n = np.linspace(0,40,500)\n",
    "x_hat  = theta[0]*(n**2) + theta[1]*n + theta[2]\n",
    "\n",
    "plt.plot(n,x_hat,'r', label='Curva predicción')\n",
    "legend = fig.legend(loc='upper right', shadow=True, fontsize='x-large')\n",
    "plt.show()\n",
    "\n",
    "\n"
   ]
  },
  {
   "cell_type": "code",
   "execution_count": null,
   "metadata": {},
   "outputs": [],
   "source": []
  }
 ],
 "metadata": {
  "kernelspec": {
   "display_name": "Python 3",
   "language": "python",
   "name": "python3"
  },
  "language_info": {
   "codemirror_mode": {
    "name": "ipython",
    "version": 3
   },
   "file_extension": ".py",
   "mimetype": "text/x-python",
   "name": "python",
   "nbconvert_exporter": "python",
   "pygments_lexer": "ipython3",
   "version": "3.6.8"
  }
 },
 "nbformat": 4,
 "nbformat_minor": 2
}
